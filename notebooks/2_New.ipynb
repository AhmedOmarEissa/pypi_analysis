{
 "cells": [
  {
   "cell_type": "code",
   "execution_count": 1,
   "metadata": {},
   "outputs": [
    {
     "name": "stdout",
     "output_type": "stream",
     "text": [
      "/Users/ahmed.omar/Documents/GitHub/pypi_analysis/pypi_downloads\n",
      "Markdown report generated: ../docs/new_projects_20240727.md\n"
     ]
    }
   ],
   "source": [
    "from pypi_downloads.NewPackagesProcessor import NewPackagesProcessor\n",
    "\n",
    "# Example Usage\n",
    "directory = '../data/external/monthly_data/'\n",
    "file_date = '20240727'  # or use max(files) to dynamically get the latest date\n",
    "\n",
    "processor = NewPackagesProcessor(directory, file_date)\n",
    "\n",
    "# Load and process the new packages\n",
    "df = processor.load_new_packages()\n",
    "\n",
    "# Take top 20 projects\n",
    "top20 = df.head(20)\n",
    "\n",
    "# Enrich with PyPI data\n",
    "top20 = processor.enrich_with_pypi_data(top20)\n",
    "\n",
    "# Generate Markdown report\n",
    "template_path = \"../docs/project_installs_report.md\"\n",
    "output_path = f\"../docs/new_projects_{file_date}.md\"\n",
    "processor.generate_markdown_report(top20, template_path, output_path)\n"
   ]
  },
  {
   "cell_type": "code",
   "execution_count": null,
   "metadata": {},
   "outputs": [],
   "source": []
  },
  {
   "cell_type": "code",
   "execution_count": null,
   "metadata": {},
   "outputs": [],
   "source": []
  }
 ],
 "metadata": {
  "kernelspec": {
   "display_name": "venv",
   "language": "python",
   "name": "python3"
  },
  "language_info": {
   "codemirror_mode": {
    "name": "ipython",
    "version": 3
   },
   "file_extension": ".py",
   "mimetype": "text/x-python",
   "name": "python",
   "nbconvert_exporter": "python",
   "pygments_lexer": "ipython3",
   "version": "3.10.11"
  }
 },
 "nbformat": 4,
 "nbformat_minor": 2
}
